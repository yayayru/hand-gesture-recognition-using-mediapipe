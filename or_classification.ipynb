{
 "cells": [
  {
   "cell_type": "code",
   "execution_count": 1,
   "metadata": {},
   "outputs": [
    {
     "name": "stderr",
     "output_type": "stream",
     "text": [
      "2024-06-25 00:05:10.418622: I tensorflow/core/platform/cpu_feature_guard.cc:193] This TensorFlow binary is optimized with oneAPI Deep Neural Network Library (oneDNN) to use the following CPU instructions in performance-critical operations:  AVX2 FMA\n",
      "To enable them in other operations, rebuild TensorFlow with the appropriate compiler flags.\n",
      "2024-06-25 00:05:10.916411: W tensorflow/compiler/xla/stream_executor/platform/default/dso_loader.cc:64] Could not load dynamic library 'libnvinfer.so.7'; dlerror: libnvinfer.so.7: cannot open shared object file: No such file or directory; LD_LIBRARY_PATH: /usr/local/cuda-11.8/lib64:/usr/local/cuda-11.8/lib64:/usr/local/cuda-11.2/lib64:\n",
      "2024-06-25 00:05:10.916466: W tensorflow/compiler/xla/stream_executor/platform/default/dso_loader.cc:64] Could not load dynamic library 'libnvinfer_plugin.so.7'; dlerror: libnvinfer_plugin.so.7: cannot open shared object file: No such file or directory; LD_LIBRARY_PATH: /usr/local/cuda-11.8/lib64:/usr/local/cuda-11.8/lib64:/usr/local/cuda-11.2/lib64:\n",
      "2024-06-25 00:05:10.916472: W tensorflow/compiler/tf2tensorrt/utils/py_utils.cc:38] TF-TRT Warning: Cannot dlopen some TensorRT libraries. If you would like to use Nvidia GPU with TensorRT, please make sure the missing libraries mentioned above are installed properly.\n"
     ]
    }
   ],
   "source": [
    "import csv\n",
    "\n",
    "import numpy as np\n",
    "import tensorflow as tf\n",
    "from sklearn.model_selection import train_test_split\n",
    "\n",
    "RANDOM_SEED = 42"
   ]
  },
  {
   "cell_type": "markdown",
   "metadata": {},
   "source": [
    "# 各パス指定"
   ]
  },
  {
   "cell_type": "code",
   "execution_count": 3,
   "metadata": {},
   "outputs": [],
   "source": [
    "dataset = 'model/or_classifier/or.csv'\n",
    "model_save_path = 'model/or_classifier/or_classifier.hdf5'"
   ]
  },
  {
   "cell_type": "markdown",
   "metadata": {},
   "source": [
    "# 分類数設定"
   ]
  },
  {
   "cell_type": "code",
   "execution_count": 4,
   "metadata": {},
   "outputs": [],
   "source": [
    "NUM_CLASSES = 3"
   ]
  },
  {
   "cell_type": "markdown",
   "metadata": {},
   "source": [
    "# 学習データ読み込み"
   ]
  },
  {
   "cell_type": "code",
   "execution_count": 5,
   "metadata": {},
   "outputs": [],
   "source": [
    "X_dataset = np.loadtxt(dataset, delimiter=',', dtype='float32', usecols=list(range(1, (21 * 2) + 1)))"
   ]
  },
  {
   "cell_type": "code",
   "execution_count": 6,
   "metadata": {},
   "outputs": [],
   "source": [
    "y_dataset = np.loadtxt(dataset, delimiter=',', dtype='int32', usecols=(0))"
   ]
  },
  {
   "cell_type": "code",
   "execution_count": 7,
   "metadata": {},
   "outputs": [],
   "source": [
    "X_train, X_test, y_train, y_test = train_test_split(X_dataset, y_dataset, train_size=0.75, random_state=RANDOM_SEED)"
   ]
  },
  {
   "cell_type": "markdown",
   "metadata": {},
   "source": [
    "# モデル構築"
   ]
  },
  {
   "cell_type": "code",
   "execution_count": 8,
   "metadata": {},
   "outputs": [],
   "source": [
    "model = tf.keras.models.Sequential([\n",
    "    tf.keras.layers.Input((21 * 2, )),\n",
    "    tf.keras.layers.Dropout(0.2),\n",
    "    tf.keras.layers.Dense(20, activation='relu'),\n",
    "    tf.keras.layers.Dropout(0.4),\n",
    "    tf.keras.layers.Dense(10, activation='relu'),\n",
    "    tf.keras.layers.Dense(NUM_CLASSES, activation='softmax')\n",
    "])"
   ]
  },
  {
   "cell_type": "code",
   "execution_count": 9,
   "metadata": {},
   "outputs": [
    {
     "name": "stdout",
     "output_type": "stream",
     "text": [
      "Model: \"sequential\"\n",
      "_________________________________________________________________\n",
      " Layer (type)                Output Shape              Param #   \n",
      "=================================================================\n",
      " dropout (Dropout)           (None, 42)                0         \n",
      "                                                                 \n",
      " dense (Dense)               (None, 20)                860       \n",
      "                                                                 \n",
      " dropout_1 (Dropout)         (None, 20)                0         \n",
      "                                                                 \n",
      " dense_1 (Dense)             (None, 10)                210       \n",
      "                                                                 \n",
      " dense_2 (Dense)             (None, 3)                 33        \n",
      "                                                                 \n",
      "=================================================================\n",
      "Total params: 1,103\n",
      "Trainable params: 1,103\n",
      "Non-trainable params: 0\n",
      "_________________________________________________________________\n"
     ]
    }
   ],
   "source": [
    "model.summary()  # tf.keras.utils.plot_model(model, show_shapes=True)"
   ]
  },
  {
   "cell_type": "code",
   "execution_count": 10,
   "metadata": {},
   "outputs": [],
   "source": [
    "# モデルチェックポイントのコールバック\n",
    "cp_callback = tf.keras.callbacks.ModelCheckpoint(\n",
    "    model_save_path, verbose=1, save_weights_only=False)\n",
    "# 早期打ち切り用コールバック\n",
    "es_callback = tf.keras.callbacks.EarlyStopping(patience=20, verbose=1)"
   ]
  },
  {
   "cell_type": "code",
   "execution_count": 11,
   "metadata": {},
   "outputs": [],
   "source": [
    "# モデルコンパイル\n",
    "model.compile(\n",
    "    optimizer='adam',\n",
    "    loss='sparse_categorical_crossentropy',\n",
    "    metrics=['accuracy']\n",
    ")"
   ]
  },
  {
   "cell_type": "markdown",
   "metadata": {},
   "source": [
    "# モデル訓練"
   ]
  },
  {
   "cell_type": "code",
   "execution_count": 12,
   "metadata": {
    "scrolled": true
   },
   "outputs": [
    {
     "name": "stdout",
     "output_type": "stream",
     "text": [
      "Epoch 1/1000\n",
      "27/27 [==============================] - ETA: 0s - loss: 1.1221 - accuracy: 0.3416  \n",
      "Epoch 1: saving model to model/or_classifier/or_classifier.hdf5\n",
      "27/27 [==============================] - 4s 10ms/step - loss: 1.1221 - accuracy: 0.3416 - val_loss: 1.0440 - val_accuracy: 0.4025\n",
      "Epoch 2/1000\n",
      "20/27 [=====================>........] - ETA: 0s - loss: 1.0655 - accuracy: 0.3730\n",
      "Epoch 2: saving model to model/or_classifier/or_classifier.hdf5\n",
      "27/27 [==============================] - 0s 4ms/step - loss: 1.0595 - accuracy: 0.3860 - val_loss: 1.0198 - val_accuracy: 0.4564\n",
      "Epoch 3/1000\n",
      " 1/27 [>.............................] - ETA: 0s - loss: 1.0606 - accuracy: 0.3672\n",
      "Epoch 3: saving model to model/or_classifier/or_classifier.hdf5\n",
      "27/27 [==============================] - 0s 3ms/step - loss: 1.0363 - accuracy: 0.4381 - val_loss: 0.9909 - val_accuracy: 0.5355\n",
      "Epoch 4/1000\n",
      " 1/27 [>.............................] - ETA: 0s - loss: 1.0273 - accuracy: 0.4219\n",
      "Epoch 4: saving model to model/or_classifier/or_classifier.hdf5\n",
      "27/27 [==============================] - 0s 3ms/step - loss: 1.0119 - accuracy: 0.4705 - val_loss: 0.9610 - val_accuracy: 0.5849\n",
      "Epoch 5/1000\n",
      " 1/27 [>.............................] - ETA: 0s - loss: 1.0164 - accuracy: 0.4453\n",
      "Epoch 5: saving model to model/or_classifier/or_classifier.hdf5\n",
      "27/27 [==============================] - 0s 3ms/step - loss: 0.9914 - accuracy: 0.5070 - val_loss: 0.9219 - val_accuracy: 0.6523\n",
      "Epoch 6/1000\n",
      " 1/27 [>.............................] - ETA: 0s - loss: 0.9610 - accuracy: 0.5547\n",
      "Epoch 6: saving model to model/or_classifier/or_classifier.hdf5\n",
      "27/27 [==============================] - 0s 3ms/step - loss: 0.9617 - accuracy: 0.5436 - val_loss: 0.8802 - val_accuracy: 0.7287\n",
      "Epoch 7/1000\n",
      " 1/27 [>.............................] - ETA: 0s - loss: 0.9230 - accuracy: 0.5234\n",
      "Epoch 7: saving model to model/or_classifier/or_classifier.hdf5\n",
      "27/27 [==============================] - 0s 3ms/step - loss: 0.9299 - accuracy: 0.5619 - val_loss: 0.8350 - val_accuracy: 0.7556\n",
      "Epoch 8/1000\n",
      " 1/27 [>.............................] - ETA: 0s - loss: 0.8871 - accuracy: 0.6016\n",
      "Epoch 8: saving model to model/or_classifier/or_classifier.hdf5\n",
      "27/27 [==============================] - 0s 3ms/step - loss: 0.8997 - accuracy: 0.5904 - val_loss: 0.7826 - val_accuracy: 0.7835\n",
      "Epoch 9/1000\n",
      " 1/27 [>.............................] - ETA: 0s - loss: 0.9477 - accuracy: 0.5938\n",
      "Epoch 9: saving model to model/or_classifier/or_classifier.hdf5\n",
      "27/27 [==============================] - 0s 3ms/step - loss: 0.8806 - accuracy: 0.5978 - val_loss: 0.7410 - val_accuracy: 0.7996\n",
      "Epoch 10/1000\n",
      " 1/27 [>.............................] - ETA: 0s - loss: 0.8814 - accuracy: 0.5703\n",
      "Epoch 10: saving model to model/or_classifier/or_classifier.hdf5\n",
      "27/27 [==============================] - 0s 3ms/step - loss: 0.8329 - accuracy: 0.6344 - val_loss: 0.6888 - val_accuracy: 0.8149\n",
      "Epoch 11/1000\n",
      " 1/27 [>.............................] - ETA: 0s - loss: 0.8189 - accuracy: 0.6484\n",
      "Epoch 11: saving model to model/or_classifier/or_classifier.hdf5\n",
      "27/27 [==============================] - 0s 3ms/step - loss: 0.8023 - accuracy: 0.6383 - val_loss: 0.6402 - val_accuracy: 0.8437\n",
      "Epoch 12/1000\n",
      " 1/27 [>.............................] - ETA: 0s - loss: 0.7560 - accuracy: 0.6719\n",
      "Epoch 12: saving model to model/or_classifier/or_classifier.hdf5\n",
      "27/27 [==============================] - 0s 3ms/step - loss: 0.7764 - accuracy: 0.6569 - val_loss: 0.5935 - val_accuracy: 0.8419\n",
      "Epoch 13/1000\n",
      " 1/27 [>.............................] - ETA: 0s - loss: 0.7505 - accuracy: 0.6641\n",
      "Epoch 13: saving model to model/or_classifier/or_classifier.hdf5\n",
      "27/27 [==============================] - 0s 3ms/step - loss: 0.7532 - accuracy: 0.6683 - val_loss: 0.5629 - val_accuracy: 0.8715\n",
      "Epoch 14/1000\n",
      " 1/27 [>.............................] - ETA: 0s - loss: 0.7357 - accuracy: 0.7188\n",
      "Epoch 14: saving model to model/or_classifier/or_classifier.hdf5\n",
      "27/27 [==============================] - 0s 3ms/step - loss: 0.7354 - accuracy: 0.6883 - val_loss: 0.5228 - val_accuracy: 0.8922\n",
      "Epoch 15/1000\n",
      " 1/27 [>.............................] - ETA: 0s - loss: 0.8481 - accuracy: 0.6094\n",
      "Epoch 15: saving model to model/or_classifier/or_classifier.hdf5\n",
      "27/27 [==============================] - 0s 3ms/step - loss: 0.7038 - accuracy: 0.7009 - val_loss: 0.4976 - val_accuracy: 0.9003\n",
      "Epoch 16/1000\n",
      " 1/27 [>.............................] - ETA: 0s - loss: 0.6495 - accuracy: 0.7344\n",
      "Epoch 16: saving model to model/or_classifier/or_classifier.hdf5\n",
      "27/27 [==============================] - 0s 3ms/step - loss: 0.6788 - accuracy: 0.7138 - val_loss: 0.4688 - val_accuracy: 0.9119\n",
      "Epoch 17/1000\n",
      " 1/27 [>.............................] - ETA: 0s - loss: 0.8105 - accuracy: 0.6641\n",
      "Epoch 17: saving model to model/or_classifier/or_classifier.hdf5\n",
      "27/27 [==============================] - 0s 3ms/step - loss: 0.6666 - accuracy: 0.7207 - val_loss: 0.4438 - val_accuracy: 0.9111\n",
      "Epoch 18/1000\n",
      " 1/27 [>.............................] - ETA: 0s - loss: 0.5763 - accuracy: 0.8203\n",
      "Epoch 18: saving model to model/or_classifier/or_classifier.hdf5\n",
      "27/27 [==============================] - 0s 3ms/step - loss: 0.6349 - accuracy: 0.7417 - val_loss: 0.4177 - val_accuracy: 0.9182\n",
      "Epoch 19/1000\n",
      " 1/27 [>.............................] - ETA: 0s - loss: 0.6272 - accuracy: 0.7812\n",
      "Epoch 19: saving model to model/or_classifier/or_classifier.hdf5\n",
      "27/27 [==============================] - 0s 3ms/step - loss: 0.6366 - accuracy: 0.7480 - val_loss: 0.4012 - val_accuracy: 0.9362\n",
      "Epoch 20/1000\n",
      " 1/27 [>.............................] - ETA: 0s - loss: 0.6577 - accuracy: 0.7188\n",
      "Epoch 20: saving model to model/or_classifier/or_classifier.hdf5\n",
      "27/27 [==============================] - 0s 3ms/step - loss: 0.6192 - accuracy: 0.7447 - val_loss: 0.3894 - val_accuracy: 0.9326\n",
      "Epoch 21/1000\n",
      " 1/27 [>.............................] - ETA: 0s - loss: 0.6001 - accuracy: 0.7734\n",
      "Epoch 21: saving model to model/or_classifier/or_classifier.hdf5\n",
      "27/27 [==============================] - 0s 3ms/step - loss: 0.6015 - accuracy: 0.7576 - val_loss: 0.3724 - val_accuracy: 0.9398\n",
      "Epoch 22/1000\n",
      " 1/27 [>.............................] - ETA: 0s - loss: 0.6233 - accuracy: 0.7344\n",
      "Epoch 22: saving model to model/or_classifier/or_classifier.hdf5\n",
      "27/27 [==============================] - 0s 3ms/step - loss: 0.5902 - accuracy: 0.7690 - val_loss: 0.3585 - val_accuracy: 0.9353\n",
      "Epoch 23/1000\n",
      " 1/27 [>.............................] - ETA: 0s - loss: 0.5260 - accuracy: 0.8125\n",
      "Epoch 23: saving model to model/or_classifier/or_classifier.hdf5\n",
      "27/27 [==============================] - 0s 3ms/step - loss: 0.5851 - accuracy: 0.7726 - val_loss: 0.3410 - val_accuracy: 0.9443\n",
      "Epoch 24/1000\n",
      " 1/27 [>.............................] - ETA: 0s - loss: 0.6034 - accuracy: 0.7969\n",
      "Epoch 24: saving model to model/or_classifier/or_classifier.hdf5\n",
      "27/27 [==============================] - 0s 3ms/step - loss: 0.5857 - accuracy: 0.7669 - val_loss: 0.3322 - val_accuracy: 0.9380\n",
      "Epoch 25/1000\n",
      " 1/27 [>.............................] - ETA: 0s - loss: 0.6279 - accuracy: 0.7344\n",
      "Epoch 25: saving model to model/or_classifier/or_classifier.hdf5\n",
      "27/27 [==============================] - 0s 3ms/step - loss: 0.5680 - accuracy: 0.7752 - val_loss: 0.3210 - val_accuracy: 0.9470\n",
      "Epoch 26/1000\n",
      " 1/27 [>.............................] - ETA: 0s - loss: 0.6520 - accuracy: 0.7188\n",
      "Epoch 26: saving model to model/or_classifier/or_classifier.hdf5\n",
      "27/27 [==============================] - 0s 3ms/step - loss: 0.5684 - accuracy: 0.7708 - val_loss: 0.3106 - val_accuracy: 0.9479\n",
      "Epoch 27/1000\n",
      " 1/27 [>.............................] - ETA: 0s - loss: 0.5848 - accuracy: 0.7891\n",
      "Epoch 27: saving model to model/or_classifier/or_classifier.hdf5\n",
      "27/27 [==============================] - 0s 3ms/step - loss: 0.5461 - accuracy: 0.7857 - val_loss: 0.3033 - val_accuracy: 0.9479\n",
      "Epoch 28/1000\n",
      " 1/27 [>.............................] - ETA: 0s - loss: 0.4946 - accuracy: 0.7734\n",
      "Epoch 28: saving model to model/or_classifier/or_classifier.hdf5\n",
      "27/27 [==============================] - 0s 3ms/step - loss: 0.5457 - accuracy: 0.7845 - val_loss: 0.2973 - val_accuracy: 0.9416\n",
      "Epoch 29/1000\n",
      " 1/27 [>.............................] - ETA: 0s - loss: 0.5053 - accuracy: 0.7891\n",
      "Epoch 29: saving model to model/or_classifier/or_classifier.hdf5\n",
      "27/27 [==============================] - 0s 3ms/step - loss: 0.5382 - accuracy: 0.7959 - val_loss: 0.2883 - val_accuracy: 0.9398\n",
      "Epoch 30/1000\n",
      " 1/27 [>.............................] - ETA: 0s - loss: 0.5539 - accuracy: 0.7891\n",
      "Epoch 30: saving model to model/or_classifier/or_classifier.hdf5\n",
      "27/27 [==============================] - 0s 3ms/step - loss: 0.5457 - accuracy: 0.7902 - val_loss: 0.2871 - val_accuracy: 0.9398\n",
      "Epoch 31/1000\n",
      " 1/27 [>.............................] - ETA: 0s - loss: 0.5445 - accuracy: 0.8047\n",
      "Epoch 31: saving model to model/or_classifier/or_classifier.hdf5\n",
      "27/27 [==============================] - 0s 3ms/step - loss: 0.5206 - accuracy: 0.7953 - val_loss: 0.2787 - val_accuracy: 0.9443\n",
      "Epoch 32/1000\n",
      " 1/27 [>.............................] - ETA: 0s - loss: 0.5194 - accuracy: 0.8281\n",
      "Epoch 32: saving model to model/or_classifier/or_classifier.hdf5\n",
      "27/27 [==============================] - 0s 3ms/step - loss: 0.5247 - accuracy: 0.7962 - val_loss: 0.2784 - val_accuracy: 0.9416\n",
      "Epoch 33/1000\n",
      " 1/27 [>.............................] - ETA: 0s - loss: 0.4934 - accuracy: 0.8281\n",
      "Epoch 33: saving model to model/or_classifier/or_classifier.hdf5\n",
      "27/27 [==============================] - 0s 3ms/step - loss: 0.5306 - accuracy: 0.7983 - val_loss: 0.2712 - val_accuracy: 0.9389\n",
      "Epoch 34/1000\n",
      " 1/27 [>.............................] - ETA: 0s - loss: 0.5214 - accuracy: 0.7969\n",
      "Epoch 34: saving model to model/or_classifier/or_classifier.hdf5\n",
      "27/27 [==============================] - 0s 3ms/step - loss: 0.5385 - accuracy: 0.7938 - val_loss: 0.2676 - val_accuracy: 0.9461\n",
      "Epoch 35/1000\n",
      " 1/27 [>.............................] - ETA: 0s - loss: 0.6327 - accuracy: 0.7422\n",
      "Epoch 35: saving model to model/or_classifier/or_classifier.hdf5\n",
      "27/27 [==============================] - 0s 3ms/step - loss: 0.5210 - accuracy: 0.7965 - val_loss: 0.2659 - val_accuracy: 0.9407\n",
      "Epoch 36/1000\n",
      " 1/27 [>.............................] - ETA: 0s - loss: 0.4617 - accuracy: 0.8516\n",
      "Epoch 36: saving model to model/or_classifier/or_classifier.hdf5\n",
      "27/27 [==============================] - 0s 3ms/step - loss: 0.5031 - accuracy: 0.8019 - val_loss: 0.2546 - val_accuracy: 0.9443\n",
      "Epoch 37/1000\n",
      " 1/27 [>.............................] - ETA: 0s - loss: 0.4885 - accuracy: 0.8516\n",
      "Epoch 37: saving model to model/or_classifier/or_classifier.hdf5\n",
      "27/27 [==============================] - 0s 3ms/step - loss: 0.5061 - accuracy: 0.8067 - val_loss: 0.2514 - val_accuracy: 0.9389\n",
      "Epoch 38/1000\n",
      " 1/27 [>.............................] - ETA: 0s - loss: 0.4309 - accuracy: 0.8594\n",
      "Epoch 38: saving model to model/or_classifier/or_classifier.hdf5\n",
      "27/27 [==============================] - 0s 3ms/step - loss: 0.4997 - accuracy: 0.8040 - val_loss: 0.2481 - val_accuracy: 0.9488\n",
      "Epoch 39/1000\n",
      " 1/27 [>.............................] - ETA: 0s - loss: 0.4437 - accuracy: 0.8516\n",
      "Epoch 39: saving model to model/or_classifier/or_classifier.hdf5\n",
      "27/27 [==============================] - 0s 3ms/step - loss: 0.4993 - accuracy: 0.8016 - val_loss: 0.2460 - val_accuracy: 0.9425\n",
      "Epoch 40/1000\n",
      " 1/27 [>.............................] - ETA: 0s - loss: 0.5250 - accuracy: 0.8125\n",
      "Epoch 40: saving model to model/or_classifier/or_classifier.hdf5\n",
      "27/27 [==============================] - 0s 3ms/step - loss: 0.4897 - accuracy: 0.8130 - val_loss: 0.2391 - val_accuracy: 0.9434\n",
      "Epoch 41/1000\n",
      " 1/27 [>.............................] - ETA: 0s - loss: 0.5485 - accuracy: 0.7656\n",
      "Epoch 41: saving model to model/or_classifier/or_classifier.hdf5\n",
      "27/27 [==============================] - 0s 3ms/step - loss: 0.4914 - accuracy: 0.8142 - val_loss: 0.2389 - val_accuracy: 0.9434\n",
      "Epoch 42/1000\n",
      " 1/27 [>.............................] - ETA: 0s - loss: 0.5538 - accuracy: 0.8203\n",
      "Epoch 42: saving model to model/or_classifier/or_classifier.hdf5\n",
      "27/27 [==============================] - 0s 3ms/step - loss: 0.4903 - accuracy: 0.8073 - val_loss: 0.2390 - val_accuracy: 0.9425\n",
      "Epoch 43/1000\n",
      " 1/27 [>.............................] - ETA: 0s - loss: 0.5799 - accuracy: 0.7500\n",
      "Epoch 43: saving model to model/or_classifier/or_classifier.hdf5\n",
      "27/27 [==============================] - 0s 3ms/step - loss: 0.4895 - accuracy: 0.8166 - val_loss: 0.2316 - val_accuracy: 0.9479\n",
      "Epoch 44/1000\n",
      " 1/27 [>.............................] - ETA: 0s - loss: 0.5314 - accuracy: 0.8359\n",
      "Epoch 44: saving model to model/or_classifier/or_classifier.hdf5\n",
      "27/27 [==============================] - 0s 3ms/step - loss: 0.4700 - accuracy: 0.8265 - val_loss: 0.2225 - val_accuracy: 0.9488\n",
      "Epoch 45/1000\n",
      " 1/27 [>.............................] - ETA: 0s - loss: 0.4664 - accuracy: 0.7891\n",
      "Epoch 45: saving model to model/or_classifier/or_classifier.hdf5\n",
      "27/27 [==============================] - 0s 3ms/step - loss: 0.4880 - accuracy: 0.8085 - val_loss: 0.2249 - val_accuracy: 0.9497\n",
      "Epoch 46/1000\n",
      " 1/27 [>.............................] - ETA: 0s - loss: 0.4819 - accuracy: 0.8281\n",
      "Epoch 46: saving model to model/or_classifier/or_classifier.hdf5\n",
      "27/27 [==============================] - 0s 3ms/step - loss: 0.4751 - accuracy: 0.8205 - val_loss: 0.2260 - val_accuracy: 0.9479\n",
      "Epoch 47/1000\n",
      " 1/27 [>.............................] - ETA: 0s - loss: 0.4491 - accuracy: 0.8047\n",
      "Epoch 47: saving model to model/or_classifier/or_classifier.hdf5\n",
      "27/27 [==============================] - 0s 3ms/step - loss: 0.4831 - accuracy: 0.8121 - val_loss: 0.2299 - val_accuracy: 0.9470\n",
      "Epoch 48/1000\n",
      " 1/27 [>.............................] - ETA: 0s - loss: 0.4558 - accuracy: 0.8203\n",
      "Epoch 48: saving model to model/or_classifier/or_classifier.hdf5\n",
      "27/27 [==============================] - 0s 3ms/step - loss: 0.4956 - accuracy: 0.8112 - val_loss: 0.2291 - val_accuracy: 0.9515\n",
      "Epoch 49/1000\n",
      " 1/27 [>.............................] - ETA: 0s - loss: 0.4636 - accuracy: 0.7891\n",
      "Epoch 49: saving model to model/or_classifier/or_classifier.hdf5\n",
      "27/27 [==============================] - 0s 3ms/step - loss: 0.4819 - accuracy: 0.8190 - val_loss: 0.2217 - val_accuracy: 0.9524\n",
      "Epoch 50/1000\n",
      " 1/27 [>.............................] - ETA: 0s - loss: 0.4864 - accuracy: 0.8203\n",
      "Epoch 50: saving model to model/or_classifier/or_classifier.hdf5\n",
      "27/27 [==============================] - 0s 3ms/step - loss: 0.4671 - accuracy: 0.8250 - val_loss: 0.2232 - val_accuracy: 0.9506\n",
      "Epoch 51/1000\n",
      " 1/27 [>.............................] - ETA: 0s - loss: 0.4100 - accuracy: 0.8594\n",
      "Epoch 51: saving model to model/or_classifier/or_classifier.hdf5\n",
      "27/27 [==============================] - 0s 3ms/step - loss: 0.4668 - accuracy: 0.8250 - val_loss: 0.2126 - val_accuracy: 0.9578\n",
      "Epoch 52/1000\n",
      " 1/27 [>.............................] - ETA: 0s - loss: 0.4370 - accuracy: 0.8672\n",
      "Epoch 52: saving model to model/or_classifier/or_classifier.hdf5\n",
      "27/27 [==============================] - 0s 3ms/step - loss: 0.4712 - accuracy: 0.8187 - val_loss: 0.2119 - val_accuracy: 0.9551\n",
      "Epoch 53/1000\n",
      " 1/27 [>.............................] - ETA: 0s - loss: 0.4748 - accuracy: 0.8359\n",
      "Epoch 53: saving model to model/or_classifier/or_classifier.hdf5\n",
      "27/27 [==============================] - 0s 3ms/step - loss: 0.4745 - accuracy: 0.8208 - val_loss: 0.2109 - val_accuracy: 0.9533\n",
      "Epoch 54/1000\n",
      " 1/27 [>.............................] - ETA: 0s - loss: 0.4262 - accuracy: 0.8516\n",
      "Epoch 54: saving model to model/or_classifier/or_classifier.hdf5\n",
      "27/27 [==============================] - 0s 3ms/step - loss: 0.4722 - accuracy: 0.8247 - val_loss: 0.2147 - val_accuracy: 0.9515\n",
      "Epoch 55/1000\n",
      " 1/27 [>.............................] - ETA: 0s - loss: 0.4101 - accuracy: 0.8672\n",
      "Epoch 55: saving model to model/or_classifier/or_classifier.hdf5\n",
      "27/27 [==============================] - 0s 3ms/step - loss: 0.4699 - accuracy: 0.8205 - val_loss: 0.2181 - val_accuracy: 0.9506\n",
      "Epoch 56/1000\n",
      " 1/27 [>.............................] - ETA: 0s - loss: 0.4299 - accuracy: 0.8203\n",
      "Epoch 56: saving model to model/or_classifier/or_classifier.hdf5\n",
      "27/27 [==============================] - 0s 3ms/step - loss: 0.4517 - accuracy: 0.8301 - val_loss: 0.2085 - val_accuracy: 0.9587\n",
      "Epoch 57/1000\n",
      " 1/27 [>.............................] - ETA: 0s - loss: 0.5331 - accuracy: 0.7656\n",
      "Epoch 57: saving model to model/or_classifier/or_classifier.hdf5\n",
      "27/27 [==============================] - 0s 3ms/step - loss: 0.4461 - accuracy: 0.8316 - val_loss: 0.2119 - val_accuracy: 0.9596\n",
      "Epoch 58/1000\n",
      " 1/27 [>.............................] - ETA: 0s - loss: 0.4258 - accuracy: 0.8203\n",
      "Epoch 58: saving model to model/or_classifier/or_classifier.hdf5\n",
      "27/27 [==============================] - 0s 3ms/step - loss: 0.4674 - accuracy: 0.8217 - val_loss: 0.2036 - val_accuracy: 0.9596\n",
      "Epoch 59/1000\n",
      " 1/27 [>.............................] - ETA: 0s - loss: 0.3600 - accuracy: 0.8438\n",
      "Epoch 59: saving model to model/or_classifier/or_classifier.hdf5\n",
      "27/27 [==============================] - 0s 3ms/step - loss: 0.4553 - accuracy: 0.8355 - val_loss: 0.2068 - val_accuracy: 0.9596\n",
      "Epoch 60/1000\n",
      " 1/27 [>.............................] - ETA: 0s - loss: 0.6294 - accuracy: 0.7656\n",
      "Epoch 60: saving model to model/or_classifier/or_classifier.hdf5\n",
      "27/27 [==============================] - 0s 3ms/step - loss: 0.4502 - accuracy: 0.8304 - val_loss: 0.2036 - val_accuracy: 0.9614\n",
      "Epoch 61/1000\n",
      " 1/27 [>.............................] - ETA: 0s - loss: 0.4483 - accuracy: 0.7969\n",
      "Epoch 61: saving model to model/or_classifier/or_classifier.hdf5\n",
      "27/27 [==============================] - 0s 3ms/step - loss: 0.4430 - accuracy: 0.8370 - val_loss: 0.1983 - val_accuracy: 0.9587\n",
      "Epoch 62/1000\n",
      " 1/27 [>.............................] - ETA: 0s - loss: 0.3659 - accuracy: 0.8750\n",
      "Epoch 62: saving model to model/or_classifier/or_classifier.hdf5\n",
      "27/27 [==============================] - 0s 3ms/step - loss: 0.4482 - accuracy: 0.8307 - val_loss: 0.2091 - val_accuracy: 0.9542\n",
      "Epoch 63/1000\n",
      " 1/27 [>.............................] - ETA: 0s - loss: 0.4927 - accuracy: 0.8047\n",
      "Epoch 63: saving model to model/or_classifier/or_classifier.hdf5\n",
      "27/27 [==============================] - 0s 3ms/step - loss: 0.4421 - accuracy: 0.8274 - val_loss: 0.1977 - val_accuracy: 0.9578\n",
      "Epoch 64/1000\n",
      " 1/27 [>.............................] - ETA: 0s - loss: 0.5175 - accuracy: 0.8359\n",
      "Epoch 64: saving model to model/or_classifier/or_classifier.hdf5\n",
      "27/27 [==============================] - 0s 3ms/step - loss: 0.4296 - accuracy: 0.8385 - val_loss: 0.2003 - val_accuracy: 0.9578\n",
      "Epoch 65/1000\n",
      " 1/27 [>.............................] - ETA: 0s - loss: 0.4281 - accuracy: 0.8281\n",
      "Epoch 65: saving model to model/or_classifier/or_classifier.hdf5\n",
      "27/27 [==============================] - 0s 3ms/step - loss: 0.4482 - accuracy: 0.8304 - val_loss: 0.2026 - val_accuracy: 0.9542\n",
      "Epoch 66/1000\n",
      " 1/27 [>.............................] - ETA: 0s - loss: 0.4422 - accuracy: 0.8828\n",
      "Epoch 66: saving model to model/or_classifier/or_classifier.hdf5\n",
      "27/27 [==============================] - 0s 3ms/step - loss: 0.4333 - accuracy: 0.8337 - val_loss: 0.1995 - val_accuracy: 0.9524\n",
      "Epoch 67/1000\n",
      " 1/27 [>.............................] - ETA: 0s - loss: 0.3944 - accuracy: 0.8750\n",
      "Epoch 67: saving model to model/or_classifier/or_classifier.hdf5\n",
      "27/27 [==============================] - 0s 3ms/step - loss: 0.4607 - accuracy: 0.8235 - val_loss: 0.2048 - val_accuracy: 0.9506\n",
      "Epoch 68/1000\n",
      " 1/27 [>.............................] - ETA: 0s - loss: 0.4994 - accuracy: 0.7891\n",
      "Epoch 68: saving model to model/or_classifier/or_classifier.hdf5\n",
      "27/27 [==============================] - 0s 3ms/step - loss: 0.4298 - accuracy: 0.8391 - val_loss: 0.2018 - val_accuracy: 0.9551\n",
      "Epoch 69/1000\n",
      " 1/27 [>.............................] - ETA: 0s - loss: 0.3691 - accuracy: 0.8750\n",
      "Epoch 69: saving model to model/or_classifier/or_classifier.hdf5\n",
      "27/27 [==============================] - 0s 3ms/step - loss: 0.4290 - accuracy: 0.8352 - val_loss: 0.2047 - val_accuracy: 0.9560\n",
      "Epoch 70/1000\n",
      " 1/27 [>.............................] - ETA: 0s - loss: 0.4720 - accuracy: 0.8281\n",
      "Epoch 70: saving model to model/or_classifier/or_classifier.hdf5\n",
      "27/27 [==============================] - 0s 3ms/step - loss: 0.4333 - accuracy: 0.8388 - val_loss: 0.1939 - val_accuracy: 0.9578\n",
      "Epoch 71/1000\n",
      " 1/27 [>.............................] - ETA: 0s - loss: 0.4843 - accuracy: 0.7969\n",
      "Epoch 71: saving model to model/or_classifier/or_classifier.hdf5\n",
      "27/27 [==============================] - 0s 3ms/step - loss: 0.4363 - accuracy: 0.8403 - val_loss: 0.1869 - val_accuracy: 0.9605\n",
      "Epoch 72/1000\n",
      " 1/27 [>.............................] - ETA: 0s - loss: 0.4575 - accuracy: 0.7812\n",
      "Epoch 72: saving model to model/or_classifier/or_classifier.hdf5\n",
      "27/27 [==============================] - 0s 3ms/step - loss: 0.4358 - accuracy: 0.8262 - val_loss: 0.1936 - val_accuracy: 0.9614\n",
      "Epoch 73/1000\n",
      " 1/27 [>.............................] - ETA: 0s - loss: 0.4760 - accuracy: 0.8125\n",
      "Epoch 73: saving model to model/or_classifier/or_classifier.hdf5\n",
      "27/27 [==============================] - 0s 3ms/step - loss: 0.4364 - accuracy: 0.8343 - val_loss: 0.1953 - val_accuracy: 0.9497\n",
      "Epoch 74/1000\n",
      " 1/27 [>.............................] - ETA: 0s - loss: 0.4089 - accuracy: 0.8125\n",
      "Epoch 74: saving model to model/or_classifier/or_classifier.hdf5\n",
      "27/27 [==============================] - 0s 3ms/step - loss: 0.4236 - accuracy: 0.8382 - val_loss: 0.1898 - val_accuracy: 0.9587\n",
      "Epoch 75/1000\n",
      " 1/27 [>.............................] - ETA: 0s - loss: 0.4932 - accuracy: 0.8047\n",
      "Epoch 75: saving model to model/or_classifier/or_classifier.hdf5\n",
      "27/27 [==============================] - 0s 3ms/step - loss: 0.4339 - accuracy: 0.8415 - val_loss: 0.1887 - val_accuracy: 0.9578\n",
      "Epoch 76/1000\n",
      " 1/27 [>.............................] - ETA: 0s - loss: 0.5532 - accuracy: 0.7578\n",
      "Epoch 76: saving model to model/or_classifier/or_classifier.hdf5\n",
      "27/27 [==============================] - 0s 3ms/step - loss: 0.4299 - accuracy: 0.8358 - val_loss: 0.1912 - val_accuracy: 0.9614\n",
      "Epoch 77/1000\n",
      " 1/27 [>.............................] - ETA: 0s - loss: 0.4371 - accuracy: 0.8359\n",
      "Epoch 77: saving model to model/or_classifier/or_classifier.hdf5\n",
      "27/27 [==============================] - 0s 3ms/step - loss: 0.4260 - accuracy: 0.8430 - val_loss: 0.1934 - val_accuracy: 0.9623\n",
      "Epoch 78/1000\n",
      " 1/27 [>.............................] - ETA: 0s - loss: 0.3536 - accuracy: 0.8594\n",
      "Epoch 78: saving model to model/or_classifier/or_classifier.hdf5\n",
      "27/27 [==============================] - 0s 3ms/step - loss: 0.4149 - accuracy: 0.8370 - val_loss: 0.1892 - val_accuracy: 0.9623\n",
      "Epoch 79/1000\n",
      " 1/27 [>.............................] - ETA: 0s - loss: 0.4556 - accuracy: 0.8594\n",
      "Epoch 79: saving model to model/or_classifier/or_classifier.hdf5\n",
      "27/27 [==============================] - 0s 3ms/step - loss: 0.4327 - accuracy: 0.8373 - val_loss: 0.1866 - val_accuracy: 0.9650\n",
      "Epoch 80/1000\n",
      " 1/27 [>.............................] - ETA: 0s - loss: 0.3569 - accuracy: 0.8672\n",
      "Epoch 80: saving model to model/or_classifier/or_classifier.hdf5\n",
      "27/27 [==============================] - 0s 3ms/step - loss: 0.4261 - accuracy: 0.8391 - val_loss: 0.1882 - val_accuracy: 0.9560\n",
      "Epoch 81/1000\n",
      " 1/27 [>.............................] - ETA: 0s - loss: 0.4225 - accuracy: 0.8125\n",
      "Epoch 81: saving model to model/or_classifier/or_classifier.hdf5\n",
      "27/27 [==============================] - 0s 3ms/step - loss: 0.4158 - accuracy: 0.8427 - val_loss: 0.1901 - val_accuracy: 0.9605\n",
      "Epoch 82/1000\n",
      " 1/27 [>.............................] - ETA: 0s - loss: 0.4652 - accuracy: 0.8359\n",
      "Epoch 82: saving model to model/or_classifier/or_classifier.hdf5\n",
      "27/27 [==============================] - 0s 3ms/step - loss: 0.4190 - accuracy: 0.8394 - val_loss: 0.1821 - val_accuracy: 0.9650\n",
      "Epoch 83/1000\n",
      " 1/27 [>.............................] - ETA: 0s - loss: 0.3458 - accuracy: 0.8828\n",
      "Epoch 83: saving model to model/or_classifier/or_classifier.hdf5\n",
      "27/27 [==============================] - 0s 3ms/step - loss: 0.3968 - accuracy: 0.8487 - val_loss: 0.1908 - val_accuracy: 0.9632\n",
      "Epoch 84/1000\n",
      " 1/27 [>.............................] - ETA: 0s - loss: 0.4075 - accuracy: 0.8438\n",
      "Epoch 84: saving model to model/or_classifier/or_classifier.hdf5\n",
      "27/27 [==============================] - 0s 3ms/step - loss: 0.4210 - accuracy: 0.8415 - val_loss: 0.1923 - val_accuracy: 0.9569\n",
      "Epoch 85/1000\n",
      " 1/27 [>.............................] - ETA: 0s - loss: 0.3719 - accuracy: 0.8750\n",
      "Epoch 85: saving model to model/or_classifier/or_classifier.hdf5\n",
      "27/27 [==============================] - 0s 3ms/step - loss: 0.4164 - accuracy: 0.8454 - val_loss: 0.1994 - val_accuracy: 0.9542\n",
      "Epoch 86/1000\n",
      " 1/27 [>.............................] - ETA: 0s - loss: 0.3553 - accuracy: 0.8750\n",
      "Epoch 86: saving model to model/or_classifier/or_classifier.hdf5\n",
      "27/27 [==============================] - 0s 3ms/step - loss: 0.4219 - accuracy: 0.8403 - val_loss: 0.1894 - val_accuracy: 0.9560\n",
      "Epoch 87/1000\n",
      " 1/27 [>.............................] - ETA: 0s - loss: 0.5222 - accuracy: 0.7891\n",
      "Epoch 87: saving model to model/or_classifier/or_classifier.hdf5\n",
      "27/27 [==============================] - 0s 3ms/step - loss: 0.4249 - accuracy: 0.8406 - val_loss: 0.1938 - val_accuracy: 0.9569\n",
      "Epoch 88/1000\n",
      " 1/27 [>.............................] - ETA: 0s - loss: 0.4554 - accuracy: 0.8438\n",
      "Epoch 88: saving model to model/or_classifier/or_classifier.hdf5\n",
      "27/27 [==============================] - 0s 3ms/step - loss: 0.4228 - accuracy: 0.8430 - val_loss: 0.1921 - val_accuracy: 0.9542\n",
      "Epoch 89/1000\n",
      " 1/27 [>.............................] - ETA: 0s - loss: 0.4073 - accuracy: 0.8516\n",
      "Epoch 89: saving model to model/or_classifier/or_classifier.hdf5\n",
      "27/27 [==============================] - 0s 3ms/step - loss: 0.4221 - accuracy: 0.8370 - val_loss: 0.1913 - val_accuracy: 0.9596\n",
      "Epoch 90/1000\n",
      " 1/27 [>.............................] - ETA: 0s - loss: 0.3626 - accuracy: 0.8594\n",
      "Epoch 90: saving model to model/or_classifier/or_classifier.hdf5\n",
      "27/27 [==============================] - 0s 3ms/step - loss: 0.4065 - accuracy: 0.8505 - val_loss: 0.1925 - val_accuracy: 0.9623\n",
      "Epoch 91/1000\n",
      " 1/27 [>.............................] - ETA: 0s - loss: 0.3657 - accuracy: 0.8594\n",
      "Epoch 91: saving model to model/or_classifier/or_classifier.hdf5\n",
      "27/27 [==============================] - 0s 3ms/step - loss: 0.4070 - accuracy: 0.8418 - val_loss: 0.1910 - val_accuracy: 0.9632\n",
      "Epoch 92/1000\n",
      " 1/27 [>.............................] - ETA: 0s - loss: 0.4502 - accuracy: 0.8203\n",
      "Epoch 92: saving model to model/or_classifier/or_classifier.hdf5\n",
      "27/27 [==============================] - 0s 3ms/step - loss: 0.4027 - accuracy: 0.8502 - val_loss: 0.1816 - val_accuracy: 0.9659\n",
      "Epoch 93/1000\n",
      " 1/27 [>.............................] - ETA: 0s - loss: 0.4332 - accuracy: 0.8125\n",
      "Epoch 93: saving model to model/or_classifier/or_classifier.hdf5\n",
      "27/27 [==============================] - 0s 3ms/step - loss: 0.4110 - accuracy: 0.8409 - val_loss: 0.1897 - val_accuracy: 0.9650\n",
      "Epoch 94/1000\n",
      " 1/27 [>.............................] - ETA: 0s - loss: 0.3848 - accuracy: 0.8438\n",
      "Epoch 94: saving model to model/or_classifier/or_classifier.hdf5\n",
      "27/27 [==============================] - 0s 3ms/step - loss: 0.3999 - accuracy: 0.8472 - val_loss: 0.1842 - val_accuracy: 0.9641\n",
      "Epoch 95/1000\n",
      " 1/27 [>.............................] - ETA: 0s - loss: 0.3971 - accuracy: 0.8594\n",
      "Epoch 95: saving model to model/or_classifier/or_classifier.hdf5\n",
      "27/27 [==============================] - 0s 3ms/step - loss: 0.3923 - accuracy: 0.8475 - val_loss: 0.1815 - val_accuracy: 0.9659\n",
      "Epoch 96/1000\n",
      " 1/27 [>.............................] - ETA: 0s - loss: 0.3439 - accuracy: 0.8672\n",
      "Epoch 96: saving model to model/or_classifier/or_classifier.hdf5\n",
      "27/27 [==============================] - 0s 3ms/step - loss: 0.3935 - accuracy: 0.8544 - val_loss: 0.1873 - val_accuracy: 0.9587\n",
      "Epoch 97/1000\n",
      " 1/27 [>.............................] - ETA: 0s - loss: 0.3844 - accuracy: 0.8438\n",
      "Epoch 97: saving model to model/or_classifier/or_classifier.hdf5\n",
      "27/27 [==============================] - 0s 3ms/step - loss: 0.4041 - accuracy: 0.8493 - val_loss: 0.1922 - val_accuracy: 0.9641\n",
      "Epoch 98/1000\n",
      " 1/27 [>.............................] - ETA: 0s - loss: 0.2905 - accuracy: 0.8984\n",
      "Epoch 98: saving model to model/or_classifier/or_classifier.hdf5\n",
      "27/27 [==============================] - 0s 3ms/step - loss: 0.4178 - accuracy: 0.8454 - val_loss: 0.1846 - val_accuracy: 0.9650\n",
      "Epoch 99/1000\n",
      " 1/27 [>.............................] - ETA: 0s - loss: 0.3711 - accuracy: 0.8750\n",
      "Epoch 99: saving model to model/or_classifier/or_classifier.hdf5\n",
      "27/27 [==============================] - 0s 3ms/step - loss: 0.4104 - accuracy: 0.8439 - val_loss: 0.1913 - val_accuracy: 0.9596\n",
      "Epoch 100/1000\n",
      " 1/27 [>.............................] - ETA: 0s - loss: 0.2980 - accuracy: 0.9219\n",
      "Epoch 100: saving model to model/or_classifier/or_classifier.hdf5\n",
      "27/27 [==============================] - 0s 3ms/step - loss: 0.3930 - accuracy: 0.8532 - val_loss: 0.1843 - val_accuracy: 0.9623\n",
      "Epoch 101/1000\n",
      " 1/27 [>.............................] - ETA: 0s - loss: 0.4787 - accuracy: 0.8125\n",
      "Epoch 101: saving model to model/or_classifier/or_classifier.hdf5\n",
      "27/27 [==============================] - 0s 3ms/step - loss: 0.3997 - accuracy: 0.8463 - val_loss: 0.1897 - val_accuracy: 0.9596\n",
      "Epoch 102/1000\n",
      " 1/27 [>.............................] - ETA: 0s - loss: 0.4360 - accuracy: 0.8438\n",
      "Epoch 102: saving model to model/or_classifier/or_classifier.hdf5\n",
      "27/27 [==============================] - 0s 3ms/step - loss: 0.4170 - accuracy: 0.8463 - val_loss: 0.2047 - val_accuracy: 0.9578\n",
      "Epoch 103/1000\n",
      " 1/27 [>.............................] - ETA: 0s - loss: 0.3751 - accuracy: 0.8438\n",
      "Epoch 103: saving model to model/or_classifier/or_classifier.hdf5\n",
      "27/27 [==============================] - 0s 3ms/step - loss: 0.4048 - accuracy: 0.8484 - val_loss: 0.1821 - val_accuracy: 0.9632\n",
      "Epoch 104/1000\n",
      " 1/27 [>.............................] - ETA: 0s - loss: 0.4014 - accuracy: 0.8750\n",
      "Epoch 104: saving model to model/or_classifier/or_classifier.hdf5\n",
      "27/27 [==============================] - 0s 3ms/step - loss: 0.4155 - accuracy: 0.8406 - val_loss: 0.1777 - val_accuracy: 0.9677\n",
      "Epoch 105/1000\n",
      " 1/27 [>.............................] - ETA: 0s - loss: 0.4238 - accuracy: 0.7969\n",
      "Epoch 105: saving model to model/or_classifier/or_classifier.hdf5\n",
      "27/27 [==============================] - 0s 3ms/step - loss: 0.3944 - accuracy: 0.8535 - val_loss: 0.1793 - val_accuracy: 0.9659\n",
      "Epoch 106/1000\n",
      " 1/27 [>.............................] - ETA: 0s - loss: 0.3719 - accuracy: 0.8438\n",
      "Epoch 106: saving model to model/or_classifier/or_classifier.hdf5\n",
      "27/27 [==============================] - 0s 3ms/step - loss: 0.4037 - accuracy: 0.8427 - val_loss: 0.1826 - val_accuracy: 0.9650\n",
      "Epoch 107/1000\n",
      " 1/27 [>.............................] - ETA: 0s - loss: 0.4058 - accuracy: 0.8594\n",
      "Epoch 107: saving model to model/or_classifier/or_classifier.hdf5\n",
      "27/27 [==============================] - 0s 3ms/step - loss: 0.3888 - accuracy: 0.8592 - val_loss: 0.1842 - val_accuracy: 0.9632\n",
      "Epoch 108/1000\n",
      " 1/27 [>.............................] - ETA: 0s - loss: 0.4226 - accuracy: 0.8594\n",
      "Epoch 108: saving model to model/or_classifier/or_classifier.hdf5\n",
      "27/27 [==============================] - 0s 3ms/step - loss: 0.3963 - accuracy: 0.8484 - val_loss: 0.1872 - val_accuracy: 0.9659\n",
      "Epoch 109/1000\n",
      " 1/27 [>.............................] - ETA: 0s - loss: 0.3282 - accuracy: 0.8984\n",
      "Epoch 109: saving model to model/or_classifier/or_classifier.hdf5\n",
      "27/27 [==============================] - 0s 3ms/step - loss: 0.3930 - accuracy: 0.8574 - val_loss: 0.1844 - val_accuracy: 0.9605\n",
      "Epoch 110/1000\n",
      " 1/27 [>.............................] - ETA: 0s - loss: 0.4515 - accuracy: 0.8359\n",
      "Epoch 110: saving model to model/or_classifier/or_classifier.hdf5\n",
      "27/27 [==============================] - 0s 3ms/step - loss: 0.4109 - accuracy: 0.8439 - val_loss: 0.1832 - val_accuracy: 0.9614\n",
      "Epoch 111/1000\n",
      " 1/27 [>.............................] - ETA: 0s - loss: 0.3659 - accuracy: 0.8672\n",
      "Epoch 111: saving model to model/or_classifier/or_classifier.hdf5\n",
      "27/27 [==============================] - 0s 3ms/step - loss: 0.4045 - accuracy: 0.8448 - val_loss: 0.1926 - val_accuracy: 0.9578\n",
      "Epoch 112/1000\n",
      " 1/27 [>.............................] - ETA: 0s - loss: 0.5136 - accuracy: 0.7656\n",
      "Epoch 112: saving model to model/or_classifier/or_classifier.hdf5\n",
      "27/27 [==============================] - 0s 3ms/step - loss: 0.4007 - accuracy: 0.8448 - val_loss: 0.1863 - val_accuracy: 0.9650\n",
      "Epoch 113/1000\n",
      " 1/27 [>.............................] - ETA: 0s - loss: 0.3933 - accuracy: 0.8359\n",
      "Epoch 113: saving model to model/or_classifier/or_classifier.hdf5\n",
      "27/27 [==============================] - 0s 3ms/step - loss: 0.3918 - accuracy: 0.8484 - val_loss: 0.1858 - val_accuracy: 0.9650\n",
      "Epoch 114/1000\n",
      " 1/27 [>.............................] - ETA: 0s - loss: 0.2843 - accuracy: 0.8984\n",
      "Epoch 114: saving model to model/or_classifier/or_classifier.hdf5\n",
      "27/27 [==============================] - 0s 3ms/step - loss: 0.3844 - accuracy: 0.8595 - val_loss: 0.1867 - val_accuracy: 0.9641\n",
      "Epoch 115/1000\n",
      " 1/27 [>.............................] - ETA: 0s - loss: 0.5791 - accuracy: 0.7500\n",
      "Epoch 115: saving model to model/or_classifier/or_classifier.hdf5\n",
      "27/27 [==============================] - 0s 3ms/step - loss: 0.3893 - accuracy: 0.8433 - val_loss: 0.1802 - val_accuracy: 0.9650\n",
      "Epoch 116/1000\n",
      " 1/27 [>.............................] - ETA: 0s - loss: 0.3371 - accuracy: 0.8750\n",
      "Epoch 116: saving model to model/or_classifier/or_classifier.hdf5\n",
      "27/27 [==============================] - 0s 3ms/step - loss: 0.3861 - accuracy: 0.8607 - val_loss: 0.1834 - val_accuracy: 0.9614\n",
      "Epoch 117/1000\n",
      " 1/27 [>.............................] - ETA: 0s - loss: 0.4470 - accuracy: 0.8281\n",
      "Epoch 117: saving model to model/or_classifier/or_classifier.hdf5\n",
      "27/27 [==============================] - 0s 3ms/step - loss: 0.3810 - accuracy: 0.8577 - val_loss: 0.1770 - val_accuracy: 0.9650\n",
      "Epoch 118/1000\n",
      " 1/27 [>.............................] - ETA: 0s - loss: 0.5058 - accuracy: 0.7969\n",
      "Epoch 118: saving model to model/or_classifier/or_classifier.hdf5\n",
      "27/27 [==============================] - 0s 3ms/step - loss: 0.3906 - accuracy: 0.8505 - val_loss: 0.1792 - val_accuracy: 0.9650\n",
      "Epoch 119/1000\n",
      " 1/27 [>.............................] - ETA: 0s - loss: 0.4523 - accuracy: 0.8594\n",
      "Epoch 119: saving model to model/or_classifier/or_classifier.hdf5\n",
      "27/27 [==============================] - 0s 3ms/step - loss: 0.3991 - accuracy: 0.8523 - val_loss: 0.1688 - val_accuracy: 0.9668\n",
      "Epoch 120/1000\n",
      " 1/27 [>.............................] - ETA: 0s - loss: 0.2962 - accuracy: 0.8828\n",
      "Epoch 120: saving model to model/or_classifier/or_classifier.hdf5\n",
      "27/27 [==============================] - 0s 3ms/step - loss: 0.3639 - accuracy: 0.8565 - val_loss: 0.1706 - val_accuracy: 0.9659\n",
      "Epoch 121/1000\n",
      " 1/27 [>.............................] - ETA: 0s - loss: 0.2753 - accuracy: 0.8906\n",
      "Epoch 121: saving model to model/or_classifier/or_classifier.hdf5\n",
      "27/27 [==============================] - 0s 3ms/step - loss: 0.3869 - accuracy: 0.8538 - val_loss: 0.1799 - val_accuracy: 0.9650\n",
      "Epoch 122/1000\n",
      " 1/27 [>.............................] - ETA: 0s - loss: 0.4076 - accuracy: 0.8516\n",
      "Epoch 122: saving model to model/or_classifier/or_classifier.hdf5\n",
      "27/27 [==============================] - 0s 3ms/step - loss: 0.3611 - accuracy: 0.8651 - val_loss: 0.1743 - val_accuracy: 0.9668\n",
      "Epoch 123/1000\n",
      " 1/27 [>.............................] - ETA: 0s - loss: 0.3867 - accuracy: 0.8672\n",
      "Epoch 123: saving model to model/or_classifier/or_classifier.hdf5\n",
      "27/27 [==============================] - 0s 3ms/step - loss: 0.3831 - accuracy: 0.8592 - val_loss: 0.1796 - val_accuracy: 0.9650\n",
      "Epoch 124/1000\n",
      " 1/27 [>.............................] - ETA: 0s - loss: 0.3315 - accuracy: 0.8594\n",
      "Epoch 124: saving model to model/or_classifier/or_classifier.hdf5\n",
      "27/27 [==============================] - 0s 3ms/step - loss: 0.3724 - accuracy: 0.8583 - val_loss: 0.1722 - val_accuracy: 0.9659\n",
      "Epoch 125/1000\n",
      " 1/27 [>.............................] - ETA: 0s - loss: 0.3324 - accuracy: 0.9062\n",
      "Epoch 125: saving model to model/or_classifier/or_classifier.hdf5\n",
      "27/27 [==============================] - 0s 3ms/step - loss: 0.3931 - accuracy: 0.8520 - val_loss: 0.1754 - val_accuracy: 0.9650\n",
      "Epoch 126/1000\n",
      " 1/27 [>.............................] - ETA: 0s - loss: 0.3687 - accuracy: 0.8906\n",
      "Epoch 126: saving model to model/or_classifier/or_classifier.hdf5\n",
      "27/27 [==============================] - 0s 3ms/step - loss: 0.3908 - accuracy: 0.8556 - val_loss: 0.1846 - val_accuracy: 0.9641\n",
      "Epoch 127/1000\n",
      " 1/27 [>.............................] - ETA: 0s - loss: 0.4189 - accuracy: 0.8516\n",
      "Epoch 127: saving model to model/or_classifier/or_classifier.hdf5\n",
      "27/27 [==============================] - 0s 3ms/step - loss: 0.3791 - accuracy: 0.8592 - val_loss: 0.1916 - val_accuracy: 0.9632\n",
      "Epoch 128/1000\n",
      " 1/27 [>.............................] - ETA: 0s - loss: 0.3424 - accuracy: 0.8828\n",
      "Epoch 128: saving model to model/or_classifier/or_classifier.hdf5\n",
      "27/27 [==============================] - 0s 3ms/step - loss: 0.3734 - accuracy: 0.8616 - val_loss: 0.1781 - val_accuracy: 0.9632\n",
      "Epoch 129/1000\n",
      " 1/27 [>.............................] - ETA: 0s - loss: 0.2817 - accuracy: 0.9297\n",
      "Epoch 129: saving model to model/or_classifier/or_classifier.hdf5\n",
      "27/27 [==============================] - 0s 3ms/step - loss: 0.3892 - accuracy: 0.8550 - val_loss: 0.1758 - val_accuracy: 0.9587\n",
      "Epoch 130/1000\n",
      " 1/27 [>.............................] - ETA: 0s - loss: 0.3269 - accuracy: 0.8906\n",
      "Epoch 130: saving model to model/or_classifier/or_classifier.hdf5\n",
      "27/27 [==============================] - 0s 3ms/step - loss: 0.3912 - accuracy: 0.8499 - val_loss: 0.1830 - val_accuracy: 0.9668\n",
      "Epoch 131/1000\n",
      " 1/27 [>.............................] - ETA: 0s - loss: 0.3533 - accuracy: 0.8750\n",
      "Epoch 131: saving model to model/or_classifier/or_classifier.hdf5\n",
      "27/27 [==============================] - 0s 3ms/step - loss: 0.3648 - accuracy: 0.8699 - val_loss: 0.1767 - val_accuracy: 0.9668\n",
      "Epoch 132/1000\n",
      " 1/27 [>.............................] - ETA: 0s - loss: 0.3639 - accuracy: 0.8750\n",
      "Epoch 132: saving model to model/or_classifier/or_classifier.hdf5\n",
      "27/27 [==============================] - 0s 3ms/step - loss: 0.3944 - accuracy: 0.8445 - val_loss: 0.1920 - val_accuracy: 0.9614\n",
      "Epoch 133/1000\n",
      " 1/27 [>.............................] - ETA: 0s - loss: 0.4191 - accuracy: 0.8516\n",
      "Epoch 133: saving model to model/or_classifier/or_classifier.hdf5\n",
      "27/27 [==============================] - 0s 3ms/step - loss: 0.3736 - accuracy: 0.8634 - val_loss: 0.1840 - val_accuracy: 0.9659\n",
      "Epoch 134/1000\n",
      " 1/27 [>.............................] - ETA: 0s - loss: 0.4331 - accuracy: 0.8281\n",
      "Epoch 134: saving model to model/or_classifier/or_classifier.hdf5\n",
      "27/27 [==============================] - 0s 3ms/step - loss: 0.3659 - accuracy: 0.8693 - val_loss: 0.1887 - val_accuracy: 0.9596\n",
      "Epoch 135/1000\n",
      " 1/27 [>.............................] - ETA: 0s - loss: 0.4024 - accuracy: 0.8516\n",
      "Epoch 135: saving model to model/or_classifier/or_classifier.hdf5\n",
      "27/27 [==============================] - 0s 3ms/step - loss: 0.3764 - accuracy: 0.8574 - val_loss: 0.1877 - val_accuracy: 0.9596\n",
      "Epoch 136/1000\n",
      " 1/27 [>.............................] - ETA: 0s - loss: 0.5250 - accuracy: 0.8125\n",
      "Epoch 136: saving model to model/or_classifier/or_classifier.hdf5\n",
      "27/27 [==============================] - 0s 3ms/step - loss: 0.3814 - accuracy: 0.8601 - val_loss: 0.1912 - val_accuracy: 0.9623\n",
      "Epoch 137/1000\n",
      " 1/27 [>.............................] - ETA: 0s - loss: 0.3142 - accuracy: 0.8906\n",
      "Epoch 137: saving model to model/or_classifier/or_classifier.hdf5\n",
      "27/27 [==============================] - 0s 3ms/step - loss: 0.3859 - accuracy: 0.8631 - val_loss: 0.1903 - val_accuracy: 0.9605\n",
      "Epoch 138/1000\n",
      " 1/27 [>.............................] - ETA: 0s - loss: 0.4411 - accuracy: 0.8359\n",
      "Epoch 138: saving model to model/or_classifier/or_classifier.hdf5\n",
      "27/27 [==============================] - 0s 3ms/step - loss: 0.3818 - accuracy: 0.8592 - val_loss: 0.1963 - val_accuracy: 0.9659\n",
      "Epoch 139/1000\n",
      " 1/27 [>.............................] - ETA: 0s - loss: 0.3094 - accuracy: 0.8672\n",
      "Epoch 139: saving model to model/or_classifier/or_classifier.hdf5\n",
      "27/27 [==============================] - 0s 3ms/step - loss: 0.3768 - accuracy: 0.8574 - val_loss: 0.1885 - val_accuracy: 0.9623\n",
      "Epoch 139: early stopping\n"
     ]
    },
    {
     "data": {
      "text/plain": [
       "<keras.callbacks.History at 0x7f8064140df0>"
      ]
     },
     "execution_count": 12,
     "metadata": {},
     "output_type": "execute_result"
    },
    {
     "name": "stdout",
     "output_type": "stream",
     "text": [
      "Epoch 109/1000\n",
      " 1/27 [>.............................] - ETA: 0s - loss: 0.5373 - accuracy: 0.7969\n",
      "Epoch 00109: saving model to model/keypoint_classifier\\keypoint_classifier.hdf5\n",
      "27/27 [==============================] - 0s 3ms/step - loss: 0.4198 - accuracy: 0.8379 - val_loss: 0.1955 - val_accuracy: 0.9659\n",
      "Epoch 110/1000\n",
      " 1/27 [>.............................] - ETA: 0s - loss: 0.3872 - accuracy: 0.8281\n",
      "Epoch 00110: saving model to model/keypoint_classifier\\keypoint_classifier.hdf5\n",
      "27/27 [==============================] - 0s 3ms/step - loss: 0.4077 - accuracy: 0.8505 - val_loss: 0.2020 - val_accuracy: 0.9614\n",
      "Epoch 111/1000\n",
      " 1/27 [>.............................] - ETA: 0s - loss: 0.3474 - accuracy: 0.8828\n",
      "Epoch 00111: saving model to model/keypoint_classifier\\keypoint_classifier.hdf5\n",
      "27/27 [==============================] - 0s 3ms/step - loss: 0.4132 - accuracy: 0.8433 - val_loss: 0.1984 - val_accuracy: 0.9632\n",
      "Epoch 112/1000\n",
      " 1/27 [>.............................] - ETA: 0s - loss: 0.4205 - accuracy: 0.8672\n",
      "Epoch 00112: saving model to model/keypoint_classifier\\keypoint_classifier.hdf5\n",
      "27/27 [==============================] - 0s 3ms/step - loss: 0.4182 - accuracy: 0.8397 - val_loss: 0.1973 - val_accuracy: 0.9614\n",
      "Epoch 113/1000\n",
      " 1/27 [>.............................] - ETA: 0s - loss: 0.4995 - accuracy: 0.8125\n",
      "Epoch 00113: saving model to model/keypoint_classifier\\keypoint_classifier.hdf5\n",
      "27/27 [==============================] - 0s 3ms/step - loss: 0.4042 - accuracy: 0.8478 - val_loss: 0.1922 - val_accuracy: 0.9650\n",
      "Epoch 114/1000\n",
      " 1/27 [>.............................] - ETA: 0s - loss: 0.3640 - accuracy: 0.8750\n",
      "Epoch 00114: saving model to model/keypoint_classifier\\keypoint_classifier.hdf5\n",
      "27/27 [==============================] - 0s 3ms/step - loss: 0.4072 - accuracy: 0.8430 - val_loss: 0.1868 - val_accuracy: 0.9596\n",
      "Epoch 115/1000\n",
      " 1/27 [>.............................] - ETA: 0s - loss: 0.5042 - accuracy: 0.8203\n",
      "Epoch 00115: saving model to model/keypoint_classifier\\keypoint_classifier.hdf5\n",
      "27/27 [==============================] - 0s 3ms/step - loss: 0.3999 - accuracy: 0.8535 - val_loss: 0.1966 - val_accuracy: 0.9605\n",
      "Epoch 116/1000\n",
      " 1/27 [>.............................] - ETA: 0s - loss: 0.5355 - accuracy: 0.7422\n",
      "Epoch 00116: saving model to model/keypoint_classifier\\keypoint_classifier.hdf5\n",
      "27/27 [==============================] - 0s 3ms/step - loss: 0.4174 - accuracy: 0.8433 - val_loss: 0.1919 - val_accuracy: 0.9659\n",
      "Epoch 117/1000\n",
      " 1/27 [>.............................] - ETA: 0s - loss: 0.3729 - accuracy: 0.8750\n",
      "Epoch 00117: saving model to model/keypoint_classifier\\keypoint_classifier.hdf5\n",
      "27/27 [==============================] - 0s 3ms/step - loss: 0.4101 - accuracy: 0.8451 - val_loss: 0.1932 - val_accuracy: 0.9578\n",
      "Epoch 118/1000\n",
      " 1/27 [>.............................] - ETA: 0s - loss: 0.3193 - accuracy: 0.8828\n",
      "Epoch 00118: saving model to model/keypoint_classifier\\keypoint_classifier.hdf5\n",
      "27/27 [==============================] - 0s 3ms/step - loss: 0.4260 - accuracy: 0.8379 - val_loss: 0.1865 - val_accuracy: 0.9641\n",
      "Epoch 119/1000\n",
      " 1/27 [>.............................] - ETA: 0s - loss: 0.3852 - accuracy: 0.8438\n",
      "Epoch 00119: saving model to model/keypoint_classifier\\keypoint_classifier.hdf5\n",
      "27/27 [==============================] - 0s 3ms/step - loss: 0.3797 - accuracy: 0.8622 - val_loss: 0.1900 - val_accuracy: 0.9677\n",
      "Epoch 120/1000\n",
      " 1/27 [>.............................] - ETA: 0s - loss: 0.3636 - accuracy: 0.8594\n",
      "Epoch 00120: saving model to model/keypoint_classifier\\keypoint_classifier.hdf5\n",
      "27/27 [==============================] - 0s 3ms/step - loss: 0.4017 - accuracy: 0.8460 - val_loss: 0.1908 - val_accuracy: 0.9659\n",
      "Epoch 121/1000\n",
      " 1/27 [>.............................] - ETA: 0s - loss: 0.4521 - accuracy: 0.8359\n",
      "Epoch 00121: saving model to model/keypoint_classifier\\keypoint_classifier.hdf5\n",
      "27/27 [==============================] - 0s 3ms/step - loss: 0.4023 - accuracy: 0.8538 - val_loss: 0.1935 - val_accuracy: 0.9659\n",
      "Epoch 122/1000\n",
      " 1/27 [>.............................] - ETA: 0s - loss: 0.4849 - accuracy: 0.8203\n",
      "Epoch 00122: saving model to model/keypoint_classifier\\keypoint_classifier.hdf5\n",
      "27/27 [==============================] - 0s 3ms/step - loss: 0.4186 - accuracy: 0.8457 - val_loss: 0.1937 - val_accuracy: 0.9659\n",
      "Epoch 123/1000\n",
      " 1/27 [>.............................] - ETA: 0s - loss: 0.4021 - accuracy: 0.8516\n",
      "Epoch 00123: saving model to model/keypoint_classifier\\keypoint_classifier.hdf5\n",
      "27/27 [==============================] - 0s 3ms/step - loss: 0.4156 - accuracy: 0.8478 - val_loss: 0.1907 - val_accuracy: 0.9632\n",
      "Epoch 124/1000\n",
      " 1/27 [>.............................] - ETA: 0s - loss: 0.3601 - accuracy: 0.8906\n",
      "Epoch 00124: saving model to model/keypoint_classifier\\keypoint_classifier.hdf5\n",
      "27/27 [==============================] - 0s 3ms/step - loss: 0.3948 - accuracy: 0.8550 - val_loss: 0.1862 - val_accuracy: 0.9605\n",
      "Epoch 125/1000\n",
      " 1/27 [>.............................] - ETA: 0s - loss: 0.4446 - accuracy: 0.7891\n",
      "Epoch 00125: saving model to model/keypoint_classifier\\keypoint_classifier.hdf5\n",
      "27/27 [==============================] - 0s 3ms/step - loss: 0.4152 - accuracy: 0.8520 - val_loss: 0.1888 - val_accuracy: 0.9623\n",
      "Epoch 126/1000\n",
      " 1/27 [>.............................] - ETA: 0s - loss: 0.3733 - accuracy: 0.8438\n",
      "Epoch 00126: saving model to model/keypoint_classifier\\keypoint_classifier.hdf5\n",
      "27/27 [==============================] - 0s 3ms/step - loss: 0.3913 - accuracy: 0.8550 - val_loss: 0.1937 - val_accuracy: 0.9632\n",
      "Epoch 127/1000\n",
      " 1/27 [>.............................] - ETA: 0s - loss: 0.3000 - accuracy: 0.8828\n",
      "Epoch 00127: saving model to model/keypoint_classifier\\keypoint_classifier.hdf5\n",
      "27/27 [==============================] - 0s 3ms/step - loss: 0.3820 - accuracy: 0.8583 - val_loss: 0.1867 - val_accuracy: 0.9632\n",
      "Epoch 00127: early stopping\n"
     ]
    },
    {
     "data": {
      "text/plain": [
       "<tensorflow.python.keras.callbacks.History at 0x2314aafaaf0>"
      ]
     },
     "execution_count": 11,
     "metadata": {},
     "output_type": "execute_result"
    }
   ],
   "source": [
    "model.fit(\n",
    "    X_train,\n",
    "    y_train,\n",
    "    epochs=1000,\n",
    "    batch_size=128,\n",
    "    validation_data=(X_test, y_test),\n",
    "    callbacks=[cp_callback, es_callback]\n",
    ")"
   ]
  },
  {
   "cell_type": "code",
   "execution_count": 13,
   "metadata": {},
   "outputs": [
    {
     "name": "stdout",
     "output_type": "stream",
     "text": [
      "9/9 [==============================] - 0s 1ms/step - loss: 0.1885 - accuracy: 0.9623\n"
     ]
    }
   ],
   "source": [
    "# モデル評価\n",
    "val_loss, val_acc = model.evaluate(X_test, y_test, batch_size=128)"
   ]
  },
  {
   "cell_type": "code",
   "execution_count": 14,
   "metadata": {},
   "outputs": [],
   "source": [
    "# 保存したモデルのロード\n",
    "model = tf.keras.models.load_model(model_save_path)"
   ]
  },
  {
   "cell_type": "code",
   "execution_count": 15,
   "metadata": {},
   "outputs": [
    {
     "name": "stdout",
     "output_type": "stream",
     "text": [
      "1/1 [==============================] - 0s 55ms/step\n",
      "[0.6776542  0.22530054 0.09704526]\n",
      "0\n"
     ]
    }
   ],
   "source": [
    "# 推論テスト\n",
    "predict_result = model.predict(np.array([X_test[0]]))\n",
    "print(np.squeeze(predict_result))\n",
    "print(np.argmax(np.squeeze(predict_result)))"
   ]
  },
  {
   "cell_type": "markdown",
   "metadata": {},
   "source": [
    "# 混同行列"
   ]
  },
  {
   "cell_type": "code",
   "execution_count": 18,
   "metadata": {},
   "outputs": [
    {
     "name": "stdout",
     "output_type": "stream",
     "text": [
      "35/35 [==============================] - 0s 867us/step\n"
     ]
    },
    {
     "data": {
      "image/png": "[encoded data removed]",
      "text/plain": [
       "<Figure size 700x600 with 2 Axes>"
      ]
     },
     "metadata": {},
     "output_type": "display_data"
    },
    {
     "name": "stdout",
     "output_type": "stream",
     "text": [
      "Classification Report\n",
      "              precision    recall  f1-score   support\n",
      "\n",
      "           0       0.99      0.98      0.99       410\n",
      "           1       0.98      0.92      0.95       385\n",
      "           2       0.91      0.99      0.95       318\n",
      "\n",
      "    accuracy                           0.96      1113\n",
      "   macro avg       0.96      0.96      0.96      1113\n",
      "weighted avg       0.96      0.96      0.96      1113\n",
      "\n"
     ]
    }
   ],
   "source": [
    "import pandas as pd\n",
    "import seaborn as sns\n",
    "import matplotlib.pyplot as plt\n",
    "from sklearn.metrics import confusion_matrix, classification_report\n",
    "\n",
    "def print_confusion_matrix(y_true, y_pred, report=True):\n",
    "    labels = sorted(list(set(y_true)))\n",
    "    cmx_data = confusion_matrix(y_true, y_pred, labels=labels)\n",
    "    \n",
    "    df_cmx = pd.DataFrame(cmx_data, index=labels, columns=labels)\n",
    " \n",
    "    fig, ax = plt.subplots(figsize=(7, 6))\n",
    "    sns.heatmap(df_cmx, annot=True, fmt='g' ,square=False)\n",
    "    ax.set_ylim(len(set(y_true)), 0)\n",
    "    plt.show()\n",
    "    \n",
    "    if report:\n",
    "        print('Classification Report')\n",
    "        print(classification_report(y_test, y_pred))\n",
    "\n",
    "Y_pred = model.predict(X_test)\n",
    "y_pred = np.argmax(Y_pred, axis=1)\n",
    "\n",
    "print_confusion_matrix(y_test, y_pred)"
   ]
  },
  {
   "cell_type": "markdown",
   "metadata": {},
   "source": [
    "# Tensorflow-Lite用のモデルへ変換"
   ]
  },
  {
   "cell_type": "code",
   "execution_count": 19,
   "metadata": {},
   "outputs": [],
   "source": [
    "# 推論専用のモデルとして保存\n",
    "model.save(model_save_path, include_optimizer=False)"
   ]
  },
  {
   "cell_type": "code",
   "execution_count": 20,
   "metadata": {},
   "outputs": [
    {
     "name": "stderr",
     "output_type": "stream",
     "text": [
      "WARNING:absl:Found untraced functions such as _update_step_xla while saving (showing 1 of 1). These functions will not be directly callable after loading.\n"
     ]
    },
    {
     "name": "stdout",
     "output_type": "stream",
     "text": [
      "INFO:tensorflow:Assets written to: /tmp/tmpm0sq7cxs/assets\n"
     ]
    },
    {
     "name": "stderr",
     "output_type": "stream",
     "text": [
      "INFO:tensorflow:Assets written to: /tmp/tmpm0sq7cxs/assets\n",
      "2024-06-25 00:09:24.346301: W tensorflow/compiler/mlir/lite/python/tf_tfl_flatbuffer_helpers.cc:362] Ignored output_format.\n",
      "2024-06-25 00:09:24.346316: W tensorflow/compiler/mlir/lite/python/tf_tfl_flatbuffer_helpers.cc:365] Ignored drop_control_dependency.\n"
     ]
    },
    {
     "data": {
      "text/plain": [
       "6500"
      ]
     },
     "execution_count": 20,
     "metadata": {},
     "output_type": "execute_result"
    }
   ],
   "source": [
    "# モデルを変換(量子化)\n",
    "tflite_save_path = 'model/keypoint_classifier/keypoint_classifier.tflite'\n",
    "\n",
    "converter = tf.lite.TFLiteConverter.from_keras_model(model)\n",
    "converter.optimizations = [tf.lite.Optimize.DEFAULT]\n",
    "tflite_quantized_model = converter.convert()\n",
    "\n",
    "open(tflite_save_path, 'wb').write(tflite_quantized_model)"
   ]
  },
  {
   "cell_type": "markdown",
   "metadata": {},
   "source": [
    "# 推論テスト"
   ]
  },
  {
   "cell_type": "code",
   "execution_count": 21,
   "metadata": {},
   "outputs": [
    {
     "name": "stderr",
     "output_type": "stream",
     "text": [
      "INFO: Created TensorFlow Lite XNNPACK delegate for CPU.\n"
     ]
    }
   ],
   "source": [
    "interpreter = tf.lite.Interpreter(model_path=tflite_save_path)\n",
    "interpreter.allocate_tensors()"
   ]
  },
  {
   "cell_type": "code",
   "execution_count": 22,
   "metadata": {},
   "outputs": [],
   "source": [
    "# 入出力テンソルを取得\n",
    "input_details = interpreter.get_input_details()\n",
    "output_details = interpreter.get_output_details()"
   ]
  },
  {
   "cell_type": "code",
   "execution_count": 23,
   "metadata": {},
   "outputs": [],
   "source": [
    "interpreter.set_tensor(input_details[0]['index'], np.array([X_test[0]]))"
   ]
  },
  {
   "cell_type": "code",
   "execution_count": 24,
   "metadata": {
    "scrolled": true
   },
   "outputs": [
    {
     "name": "stdout",
     "output_type": "stream",
     "text": [
      "CPU times: user 495 µs, sys: 0 ns, total: 495 µs\n",
      "Wall time: 501 µs\n"
     ]
    }
   ],
   "source": [
    "%%time\n",
    "# 推論実施\n",
    "interpreter.invoke()\n",
    "tflite_results = interpreter.get_tensor(output_details[0]['index'])"
   ]
  },
  {
   "cell_type": "code",
   "execution_count": 25,
   "metadata": {},
   "outputs": [
    {
     "name": "stdout",
     "output_type": "stream",
     "text": [
      "[0.67765415 0.22530062 0.09704526]\n",
      "0\n"
     ]
    }
   ],
   "source": [
    "print(np.squeeze(tflite_results))\n",
    "print(np.argmax(np.squeeze(tflite_results)))"
   ]
  },
  {
   "cell_type": "code",
   "execution_count": null,
   "metadata": {},
   "outputs": [],
   "source": []
  }
 ],
 "metadata": {
  "kernelspec": {
   "display_name": "Python 3 (ipykernel)",
   "language": "python",
   "name": "python3"
  },
  "language_info": {
   "codemirror_mode": {
    "name": "ipython",
    "version": 3
   },
   "file_extension": ".py",
   "mimetype": "text/x-python",
   "name": "python",
   "nbconvert_exporter": "python",
   "pygments_lexer": "ipython3",
   "version": "3.8.18"
  }
 },
 "nbformat": 4,
 "nbformat_minor": 4
}
